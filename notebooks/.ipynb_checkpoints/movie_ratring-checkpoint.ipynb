{
 "cells": [
  {
   "cell_type": "code",
   "execution_count": 1,
   "id": "43e16943-2785-41e9-bfed-a6aae4ea6b30",
   "metadata": {},
   "outputs": [],
   "source": [
    "# TV Series Episode Rating Heatmap (OMDb)\n"
   ]
  },
  {
   "cell_type": "code",
   "execution_count": 1,
   "id": "fc364c8a-2b45-47ea-9c0d-02dec8ba2351",
   "metadata": {},
   "outputs": [],
   "source": [
    "import requests\n",
    "import pandas as pd\n",
    "import numpy as np"
   ]
  },
  {
   "cell_type": "code",
   "execution_count": 2,
   "id": "627476cc-966c-404c-ad0c-becd9ab1b3ac",
   "metadata": {},
   "outputs": [],
   "source": [
    "import matplotlib.pyplot as plt\n",
    "import seaborn as sns\n",
    "import time\n",
    "from IPython.display import display\n",
    "from tqdm.notebook import tqdm"
   ]
  },
  {
   "cell_type": "code",
   "execution_count": 3,
   "id": "af8d20a1-645e-4993-99e1-e72717303150",
   "metadata": {},
   "outputs": [],
   "source": [
    "OMDB_API_KEY = \"c82d4fa6\""
   ]
  },
  {
   "cell_type": "code",
   "execution_count": 4,
   "id": "a40adc8c-cb1a-4ca7-afcb-f09e2d368afa",
   "metadata": {},
   "outputs": [],
   "source": [
    "def fetch_season(series_title, season_num, api_key=OMDB_API_KEY, timeout=10):\n",
    "    \"\"\"\n",
    "    Fetches JSON response for a single season (returns dict or None if not found).\n",
    "    \"\"\"\n",
    "    params = {\"t\": series_title, \"Season\": season_num, \"apikey\": api_key}\n",
    "    try:\n",
    "        r = requests.get(\"http://www.omdbapi.com/\", params=params, timeout=timeout)\n",
    "        r.raise_for_status()\n",
    "        data = r.json()\n",
    "        if data.get(\"Response\", \"False\") == \"True\" and \"Episodes\" in data:\n",
    "            return data\n",
    "        else:\n",
    "            return None\n",
    "    except Exception as e:\n",
    "        print(f\"Error fetching {series_title} S{season_num}: {e}\")\n",
    "        return None\n"
   ]
  },
  {
   "cell_type": "code",
   "execution_count": 5,
   "id": "5f20166f-b1b9-49e8-abe9-1f0162b94538",
   "metadata": {},
   "outputs": [],
   "source": [
    "def fetch_all_seasons(series_title, api_key=OMDB_API_KEY, max_seasons=50, delay=0.5, cache=True):\n",
    "    \"\"\"\n",
    "    Loops seasons 1..max_seasons and stops when no season found.\n",
    "    Returns pandas DataFrame with columns: series, season, episode, title, imdbRating, imdbVotes\n",
    "    If cache==True and CSV exists, will load from CSV instead of calling API.\n",
    "    \"\"\"\n",
    "    safe_name = \"\".join(c if c.isalnum() or c in (\" \", \"_\", \"-\") else \"_\" for c in series_title).strip()\n",
    "    csv_cache = f\"{safe_name.replace(' ', '_')}_episodes.csv\"\n",
    "    if cache:\n",
    "        try:\n",
    "            df_cache = pd.read_csv(csv_cache)\n",
    "            print(f\"Loaded cached file: {csv_cache}\")\n",
    "            return df_cache\n",
    "        except FileNotFoundError:\n",
    "            pass\n",
    "\n",
    "    records = []\n",
    "    for s in range(1, max_seasons + 1):\n",
    "        data = fetch_season(series_title, s, api_key)\n",
    "        if not data:\n",
    "            # assume no more seasons if not found\n",
    "            print(f\"No data for season {s}. Stopping.\")\n",
    "            break\n",
    "        # parse episodes\n",
    "        for ep in data.get(\"Episodes\", []):\n",
    "            rating = ep.get(\"imdbRating\")\n",
    "            rating_val = float(rating) if rating and rating != \"N/A\" else np.nan\n",
    "            votes = ep.get(\"imdbVotes\")\n",
    "            records.append({\n",
    "                \"series\": series_title,\n",
    "                \"season\": int(s),\n",
    "                \"episode\": int(ep.get(\"Episode\", 0)),\n",
    "                \"title\": ep.get(\"Title\"),\n",
    "                \"imdbRating\": rating_val,\n",
    "                \"imdbVotes\": votes\n",
    "            })\n",
    "        time.sleep(delay)  # be polite to the API\n",
    "    df = pd.DataFrame(records)\n",
    "    if cache:\n",
    "        df.to_csv(csv_cache, index=False)\n",
    "        print(f\"Saved cache to {csv_cache}\")\n",
    "    return df\n"
   ]
  },
  {
   "cell_type": "code",
   "execution_count": 6,
   "id": "8ac954e6-3b3d-4c31-a180-1927235169e5",
   "metadata": {},
   "outputs": [],
   "source": [
    "def fetch_all_seasons(series_title, api_key=OMDB_API_KEY, max_seasons=50, delay=0.5, cache=True):\n",
    "    \"\"\"\n",
    "    Loops seasons 1..max_seasons and stops when no season found.\n",
    "    Returns pandas DataFrame with columns: series, season, episode, title, imdbRating, imdbVotes\n",
    "    If cache==True and CSV exists, will load from CSV instead of calling API.\n",
    "    \"\"\"\n",
    "    safe_name = \"\".join(c if c.isalnum() or c in (\" \", \"_\", \"-\") else \"_\" for c in series_title).strip()\n",
    "    csv_cache = f\"{safe_name.replace(' ', '_')}_episodes.csv\"\n",
    "    if cache:\n",
    "        try:\n",
    "            df_cache = pd.read_csv(csv_cache)\n",
    "            print(f\"Loaded cached file: {csv_cache}\")\n",
    "            return df_cache\n",
    "        except FileNotFoundError:\n",
    "            pass\n",
    "\n",
    "    records = []\n",
    "    for s in range(1, max_seasons + 1):\n",
    "        data = fetch_season(series_title, s, api_key)\n",
    "        if not data:\n",
    "            # assume no more seasons if not found\n",
    "            print(f\"No data for season {s}. Stopping.\")\n",
    "            break\n",
    "        # parse episodes\n",
    "        for ep in data.get(\"Episodes\", []):\n",
    "            rating = ep.get(\"imdbRating\")\n",
    "            rating_val = float(rating) if rating and rating != \"N/A\" else np.nan\n",
    "            votes = ep.get(\"imdbVotes\")\n",
    "            records.append({\n",
    "                \"series\": series_title,\n",
    "                \"season\": int(s),\n",
    "                \"episode\": int(ep.get(\"Episode\", 0)),\n",
    "                \"title\": ep.get(\"Title\"),\n",
    "                \"imdbRating\": rating_val,\n",
    "                \"imdbVotes\": votes\n",
    "            })\n",
    "        time.sleep(delay)  # be polite to the API\n",
    "    df = pd.DataFrame(records)\n",
    "    if cache:\n",
    "        df.to_csv(csv_cache, index=False)\n",
    "        print(f\"Saved cache to {csv_cache}\")\n",
    "    return df\n"
   ]
  },
  {
   "cell_type": "code",
   "execution_count": 7,
   "id": "e61bfd31-f117-4343-beca-0072db7225bf",
   "metadata": {},
   "outputs": [
    {
     "name": "stdout",
     "output_type": "stream",
     "text": [
      "No data for season 9. Stopping.\n",
      "Saved cache to Game_of_Thrones_episodes.csv\n",
      "Rows fetched: 74\n"
     ]
    },
    {
     "data": {
      "text/html": [
       "<div>\n",
       "<style scoped>\n",
       "    .dataframe tbody tr th:only-of-type {\n",
       "        vertical-align: middle;\n",
       "    }\n",
       "\n",
       "    .dataframe tbody tr th {\n",
       "        vertical-align: top;\n",
       "    }\n",
       "\n",
       "    .dataframe thead th {\n",
       "        text-align: right;\n",
       "    }\n",
       "</style>\n",
       "<table border=\"1\" class=\"dataframe\">\n",
       "  <thead>\n",
       "    <tr style=\"text-align: right;\">\n",
       "      <th></th>\n",
       "      <th>series</th>\n",
       "      <th>season</th>\n",
       "      <th>episode</th>\n",
       "      <th>title</th>\n",
       "      <th>imdbRating</th>\n",
       "      <th>imdbVotes</th>\n",
       "    </tr>\n",
       "  </thead>\n",
       "  <tbody>\n",
       "    <tr>\n",
       "      <th>0</th>\n",
       "      <td>Game of Thrones</td>\n",
       "      <td>1</td>\n",
       "      <td>0</td>\n",
       "      <td>Unaired Original Pilot</td>\n",
       "      <td>NaN</td>\n",
       "      <td>None</td>\n",
       "    </tr>\n",
       "    <tr>\n",
       "      <th>1</th>\n",
       "      <td>Game of Thrones</td>\n",
       "      <td>1</td>\n",
       "      <td>1</td>\n",
       "      <td>Winter Is Coming</td>\n",
       "      <td>8.9</td>\n",
       "      <td>None</td>\n",
       "    </tr>\n",
       "    <tr>\n",
       "      <th>2</th>\n",
       "      <td>Game of Thrones</td>\n",
       "      <td>1</td>\n",
       "      <td>2</td>\n",
       "      <td>The Kingsroad</td>\n",
       "      <td>8.6</td>\n",
       "      <td>None</td>\n",
       "    </tr>\n",
       "    <tr>\n",
       "      <th>3</th>\n",
       "      <td>Game of Thrones</td>\n",
       "      <td>1</td>\n",
       "      <td>3</td>\n",
       "      <td>Lord Snow</td>\n",
       "      <td>8.5</td>\n",
       "      <td>None</td>\n",
       "    </tr>\n",
       "    <tr>\n",
       "      <th>4</th>\n",
       "      <td>Game of Thrones</td>\n",
       "      <td>1</td>\n",
       "      <td>4</td>\n",
       "      <td>Cripples, Bastards, and Broken Things</td>\n",
       "      <td>8.6</td>\n",
       "      <td>None</td>\n",
       "    </tr>\n",
       "    <tr>\n",
       "      <th>5</th>\n",
       "      <td>Game of Thrones</td>\n",
       "      <td>1</td>\n",
       "      <td>5</td>\n",
       "      <td>The Wolf and the Lion</td>\n",
       "      <td>9.0</td>\n",
       "      <td>None</td>\n",
       "    </tr>\n",
       "    <tr>\n",
       "      <th>6</th>\n",
       "      <td>Game of Thrones</td>\n",
       "      <td>1</td>\n",
       "      <td>6</td>\n",
       "      <td>A Golden Crown</td>\n",
       "      <td>9.1</td>\n",
       "      <td>None</td>\n",
       "    </tr>\n",
       "    <tr>\n",
       "      <th>7</th>\n",
       "      <td>Game of Thrones</td>\n",
       "      <td>1</td>\n",
       "      <td>7</td>\n",
       "      <td>You Win or You Die</td>\n",
       "      <td>9.1</td>\n",
       "      <td>None</td>\n",
       "    </tr>\n",
       "    <tr>\n",
       "      <th>8</th>\n",
       "      <td>Game of Thrones</td>\n",
       "      <td>1</td>\n",
       "      <td>8</td>\n",
       "      <td>The Pointy End</td>\n",
       "      <td>8.9</td>\n",
       "      <td>None</td>\n",
       "    </tr>\n",
       "    <tr>\n",
       "      <th>9</th>\n",
       "      <td>Game of Thrones</td>\n",
       "      <td>1</td>\n",
       "      <td>9</td>\n",
       "      <td>Baelor</td>\n",
       "      <td>9.6</td>\n",
       "      <td>None</td>\n",
       "    </tr>\n",
       "    <tr>\n",
       "      <th>10</th>\n",
       "      <td>Game of Thrones</td>\n",
       "      <td>1</td>\n",
       "      <td>10</td>\n",
       "      <td>Fire and Blood</td>\n",
       "      <td>9.4</td>\n",
       "      <td>None</td>\n",
       "    </tr>\n",
       "    <tr>\n",
       "      <th>11</th>\n",
       "      <td>Game of Thrones</td>\n",
       "      <td>2</td>\n",
       "      <td>1</td>\n",
       "      <td>The North Remembers</td>\n",
       "      <td>8.6</td>\n",
       "      <td>None</td>\n",
       "    </tr>\n",
       "  </tbody>\n",
       "</table>\n",
       "</div>"
      ],
      "text/plain": [
       "             series  season  episode                                  title  \\\n",
       "0   Game of Thrones       1        0                 Unaired Original Pilot   \n",
       "1   Game of Thrones       1        1                       Winter Is Coming   \n",
       "2   Game of Thrones       1        2                          The Kingsroad   \n",
       "3   Game of Thrones       1        3                              Lord Snow   \n",
       "4   Game of Thrones       1        4  Cripples, Bastards, and Broken Things   \n",
       "5   Game of Thrones       1        5                  The Wolf and the Lion   \n",
       "6   Game of Thrones       1        6                         A Golden Crown   \n",
       "7   Game of Thrones       1        7                     You Win or You Die   \n",
       "8   Game of Thrones       1        8                         The Pointy End   \n",
       "9   Game of Thrones       1        9                                 Baelor   \n",
       "10  Game of Thrones       1       10                         Fire and Blood   \n",
       "11  Game of Thrones       2        1                    The North Remembers   \n",
       "\n",
       "    imdbRating imdbVotes  \n",
       "0          NaN      None  \n",
       "1          8.9      None  \n",
       "2          8.6      None  \n",
       "3          8.5      None  \n",
       "4          8.6      None  \n",
       "5          9.0      None  \n",
       "6          9.1      None  \n",
       "7          9.1      None  \n",
       "8          8.9      None  \n",
       "9          9.6      None  \n",
       "10         9.4      None  \n",
       "11         8.6      None  "
      ]
     },
     "metadata": {},
     "output_type": "display_data"
    }
   ],
   "source": [
    "series_name = \"Game of Thrones\"   # replace with any show name\n",
    "df_eps = fetch_all_seasons(series_name, cache=True)\n",
    "print(\"Rows fetched:\", len(df_eps))\n",
    "display(df_eps.head(12))\n"
   ]
  },
  {
   "cell_type": "code",
   "execution_count": 8,
   "id": "3c9022d6-9345-4e24-ae0a-c00486bef9d1",
   "metadata": {},
   "outputs": [
    {
     "name": "stdout",
     "output_type": "stream",
     "text": [
      "series         object\n",
      "season          int64\n",
      "episode         int64\n",
      "title          object\n",
      "imdbRating    float64\n",
      "imdbVotes      object\n",
      "dtype: object\n",
      "Seasons: 8  Max episode: 10\n"
     ]
    },
    {
     "data": {
      "text/html": [
       "<div>\n",
       "<style scoped>\n",
       "    .dataframe tbody tr th:only-of-type {\n",
       "        vertical-align: middle;\n",
       "    }\n",
       "\n",
       "    .dataframe tbody tr th {\n",
       "        vertical-align: top;\n",
       "    }\n",
       "\n",
       "    .dataframe thead th {\n",
       "        text-align: right;\n",
       "    }\n",
       "</style>\n",
       "<table border=\"1\" class=\"dataframe\">\n",
       "  <thead>\n",
       "    <tr style=\"text-align: right;\">\n",
       "      <th></th>\n",
       "      <th>series</th>\n",
       "      <th>season</th>\n",
       "      <th>episode</th>\n",
       "      <th>title</th>\n",
       "      <th>imdbRating</th>\n",
       "      <th>imdbVotes</th>\n",
       "    </tr>\n",
       "  </thead>\n",
       "  <tbody>\n",
       "    <tr>\n",
       "      <th>0</th>\n",
       "      <td>Game of Thrones</td>\n",
       "      <td>1</td>\n",
       "      <td>0</td>\n",
       "      <td>Unaired Original Pilot</td>\n",
       "      <td>NaN</td>\n",
       "      <td>None</td>\n",
       "    </tr>\n",
       "    <tr>\n",
       "      <th>1</th>\n",
       "      <td>Game of Thrones</td>\n",
       "      <td>1</td>\n",
       "      <td>1</td>\n",
       "      <td>Winter Is Coming</td>\n",
       "      <td>8.9</td>\n",
       "      <td>None</td>\n",
       "    </tr>\n",
       "    <tr>\n",
       "      <th>2</th>\n",
       "      <td>Game of Thrones</td>\n",
       "      <td>1</td>\n",
       "      <td>2</td>\n",
       "      <td>The Kingsroad</td>\n",
       "      <td>8.6</td>\n",
       "      <td>None</td>\n",
       "    </tr>\n",
       "    <tr>\n",
       "      <th>3</th>\n",
       "      <td>Game of Thrones</td>\n",
       "      <td>1</td>\n",
       "      <td>3</td>\n",
       "      <td>Lord Snow</td>\n",
       "      <td>8.5</td>\n",
       "      <td>None</td>\n",
       "    </tr>\n",
       "    <tr>\n",
       "      <th>4</th>\n",
       "      <td>Game of Thrones</td>\n",
       "      <td>1</td>\n",
       "      <td>4</td>\n",
       "      <td>Cripples, Bastards, and Broken Things</td>\n",
       "      <td>8.6</td>\n",
       "      <td>None</td>\n",
       "    </tr>\n",
       "  </tbody>\n",
       "</table>\n",
       "</div>"
      ],
      "text/plain": [
       "            series  season  episode                                  title  \\\n",
       "0  Game of Thrones       1        0                 Unaired Original Pilot   \n",
       "1  Game of Thrones       1        1                       Winter Is Coming   \n",
       "2  Game of Thrones       1        2                          The Kingsroad   \n",
       "3  Game of Thrones       1        3                              Lord Snow   \n",
       "4  Game of Thrones       1        4  Cripples, Bastards, and Broken Things   \n",
       "\n",
       "   imdbRating imdbVotes  \n",
       "0         NaN      None  \n",
       "1         8.9      None  \n",
       "2         8.6      None  \n",
       "3         8.5      None  \n",
       "4         8.6      None  "
      ]
     },
     "metadata": {},
     "output_type": "display_data"
    }
   ],
   "source": [
    "# Basic checks and cleaning\n",
    "print(df_eps.dtypes)\n",
    "print(\"Seasons:\", df_eps['season'].max(), \" Max episode:\", df_eps['episode'].max())\n",
    "\n",
    "# remove duplicates and sort\n",
    "df_eps = df_eps.drop_duplicates(subset=['season', 'episode']).sort_values(['season','episode']).reset_index(drop=True)\n",
    "display(df_eps.head())\n"
   ]
  },
  {
   "cell_type": "code",
   "execution_count": 9,
   "id": "fb3e1c8b-5659-4dad-8fca-573a4c46cc45",
   "metadata": {},
   "outputs": [
    {
     "data": {
      "text/html": [
       "<div>\n",
       "<style scoped>\n",
       "    .dataframe tbody tr th:only-of-type {\n",
       "        vertical-align: middle;\n",
       "    }\n",
       "\n",
       "    .dataframe tbody tr th {\n",
       "        vertical-align: top;\n",
       "    }\n",
       "\n",
       "    .dataframe thead th {\n",
       "        text-align: right;\n",
       "    }\n",
       "</style>\n",
       "<table border=\"1\" class=\"dataframe\">\n",
       "  <thead>\n",
       "    <tr style=\"text-align: right;\">\n",
       "      <th>season</th>\n",
       "      <th>1</th>\n",
       "      <th>2</th>\n",
       "      <th>3</th>\n",
       "      <th>4</th>\n",
       "      <th>5</th>\n",
       "      <th>6</th>\n",
       "      <th>7</th>\n",
       "      <th>8</th>\n",
       "    </tr>\n",
       "    <tr>\n",
       "      <th>episode</th>\n",
       "      <th></th>\n",
       "      <th></th>\n",
       "      <th></th>\n",
       "      <th></th>\n",
       "      <th></th>\n",
       "      <th></th>\n",
       "      <th></th>\n",
       "      <th></th>\n",
       "    </tr>\n",
       "  </thead>\n",
       "  <tbody>\n",
       "    <tr>\n",
       "      <th>0</th>\n",
       "      <td>NaN</td>\n",
       "      <td>NaN</td>\n",
       "      <td>NaN</td>\n",
       "      <td>NaN</td>\n",
       "      <td>NaN</td>\n",
       "      <td>NaN</td>\n",
       "      <td>NaN</td>\n",
       "      <td>NaN</td>\n",
       "    </tr>\n",
       "    <tr>\n",
       "      <th>1</th>\n",
       "      <td>8.9</td>\n",
       "      <td>8.6</td>\n",
       "      <td>8.6</td>\n",
       "      <td>9.0</td>\n",
       "      <td>8.3</td>\n",
       "      <td>8.4</td>\n",
       "      <td>8.5</td>\n",
       "      <td>7.6</td>\n",
       "    </tr>\n",
       "    <tr>\n",
       "      <th>2</th>\n",
       "      <td>8.6</td>\n",
       "      <td>8.3</td>\n",
       "      <td>8.4</td>\n",
       "      <td>9.7</td>\n",
       "      <td>8.3</td>\n",
       "      <td>9.2</td>\n",
       "      <td>8.8</td>\n",
       "      <td>7.9</td>\n",
       "    </tr>\n",
       "    <tr>\n",
       "      <th>3</th>\n",
       "      <td>8.5</td>\n",
       "      <td>NaN</td>\n",
       "      <td>8.7</td>\n",
       "      <td>8.7</td>\n",
       "      <td>NaN</td>\n",
       "      <td>8.6</td>\n",
       "      <td>9.1</td>\n",
       "      <td>7.5</td>\n",
       "    </tr>\n",
       "    <tr>\n",
       "      <th>4</th>\n",
       "      <td>8.6</td>\n",
       "      <td>NaN</td>\n",
       "      <td>9.5</td>\n",
       "      <td>8.7</td>\n",
       "      <td>8.5</td>\n",
       "      <td>9.0</td>\n",
       "      <td>9.7</td>\n",
       "      <td>5.5</td>\n",
       "    </tr>\n",
       "  </tbody>\n",
       "</table>\n",
       "</div>"
      ],
      "text/plain": [
       "season     1    2    3    4    5    6    7    8\n",
       "episode                                        \n",
       "0        NaN  NaN  NaN  NaN  NaN  NaN  NaN  NaN\n",
       "1        8.9  8.6  8.6  9.0  8.3  8.4  8.5  7.6\n",
       "2        8.6  8.3  8.4  9.7  8.3  9.2  8.8  7.9\n",
       "3        8.5  NaN  8.7  8.7  NaN  8.6  9.1  7.5\n",
       "4        8.6  NaN  9.5  8.7  8.5  9.0  9.7  5.5"
      ]
     },
     "execution_count": 9,
     "metadata": {},
     "output_type": "execute_result"
    }
   ],
   "source": [
    "# Pivot: rows = episode number, cols = season number\n",
    "pivot = df_eps.pivot(index='episode', columns='season', values='imdbRating')\n",
    "pivot = pivot.sort_index()\n",
    "pivot.head()\n"
   ]
  },
  {
   "cell_type": "code",
   "execution_count": 10,
   "id": "c825d74b-5dae-4985-a158-8184a95d20fb",
   "metadata": {},
   "outputs": [
    {
     "name": "stderr",
     "output_type": "stream",
     "text": [
      "C:\\Users\\ADMIN\\AppData\\Local\\Temp\\ipykernel_6560\\1072507228.py:22: FutureWarning: DataFrame.applymap has been deprecated. Use DataFrame.map instead.\n",
      "  cat_grid = pivot.applymap(rating_category)\n"
     ]
    },
    {
     "data": {
      "text/html": [
       "<div>\n",
       "<style scoped>\n",
       "    .dataframe tbody tr th:only-of-type {\n",
       "        vertical-align: middle;\n",
       "    }\n",
       "\n",
       "    .dataframe tbody tr th {\n",
       "        vertical-align: top;\n",
       "    }\n",
       "\n",
       "    .dataframe thead th {\n",
       "        text-align: right;\n",
       "    }\n",
       "</style>\n",
       "<table border=\"1\" class=\"dataframe\">\n",
       "  <thead>\n",
       "    <tr style=\"text-align: right;\">\n",
       "      <th>season</th>\n",
       "      <th>1</th>\n",
       "      <th>2</th>\n",
       "      <th>3</th>\n",
       "      <th>4</th>\n",
       "      <th>5</th>\n",
       "      <th>6</th>\n",
       "      <th>7</th>\n",
       "      <th>8</th>\n",
       "    </tr>\n",
       "    <tr>\n",
       "      <th>episode</th>\n",
       "      <th></th>\n",
       "      <th></th>\n",
       "      <th></th>\n",
       "      <th></th>\n",
       "      <th></th>\n",
       "      <th></th>\n",
       "      <th></th>\n",
       "      <th></th>\n",
       "    </tr>\n",
       "  </thead>\n",
       "  <tbody>\n",
       "    <tr>\n",
       "      <th>0</th>\n",
       "      <td>NoData</td>\n",
       "      <td>NoData</td>\n",
       "      <td>NoData</td>\n",
       "      <td>NoData</td>\n",
       "      <td>NoData</td>\n",
       "      <td>NoData</td>\n",
       "      <td>NoData</td>\n",
       "      <td>NoData</td>\n",
       "    </tr>\n",
       "    <tr>\n",
       "      <th>1</th>\n",
       "      <td>Great</td>\n",
       "      <td>Great</td>\n",
       "      <td>Great</td>\n",
       "      <td>Awesome</td>\n",
       "      <td>Great</td>\n",
       "      <td>Great</td>\n",
       "      <td>Great</td>\n",
       "      <td>Good</td>\n",
       "    </tr>\n",
       "    <tr>\n",
       "      <th>2</th>\n",
       "      <td>Great</td>\n",
       "      <td>Great</td>\n",
       "      <td>Great</td>\n",
       "      <td>Awesome</td>\n",
       "      <td>Great</td>\n",
       "      <td>Awesome</td>\n",
       "      <td>Great</td>\n",
       "      <td>Good</td>\n",
       "    </tr>\n",
       "    <tr>\n",
       "      <th>3</th>\n",
       "      <td>Great</td>\n",
       "      <td>NoData</td>\n",
       "      <td>Great</td>\n",
       "      <td>Great</td>\n",
       "      <td>NoData</td>\n",
       "      <td>Great</td>\n",
       "      <td>Awesome</td>\n",
       "      <td>Good</td>\n",
       "    </tr>\n",
       "    <tr>\n",
       "      <th>4</th>\n",
       "      <td>Great</td>\n",
       "      <td>NoData</td>\n",
       "      <td>Awesome</td>\n",
       "      <td>Great</td>\n",
       "      <td>Great</td>\n",
       "      <td>Awesome</td>\n",
       "      <td>Awesome</td>\n",
       "      <td>Bad</td>\n",
       "    </tr>\n",
       "  </tbody>\n",
       "</table>\n",
       "</div>"
      ],
      "text/plain": [
       "season        1       2        3        4       5        6        7       8\n",
       "episode                                                                    \n",
       "0        NoData  NoData   NoData   NoData  NoData   NoData   NoData  NoData\n",
       "1         Great   Great    Great  Awesome   Great    Great    Great    Good\n",
       "2         Great   Great    Great  Awesome   Great  Awesome    Great    Good\n",
       "3         Great  NoData    Great    Great  NoData    Great  Awesome    Good\n",
       "4         Great  NoData  Awesome    Great   Great  Awesome  Awesome     Bad"
      ]
     },
     "execution_count": 10,
     "metadata": {},
     "output_type": "execute_result"
    }
   ],
   "source": [
    "def rating_category(r):\n",
    "    if pd.isna(r): return \"NoData\"\n",
    "    r = float(r)\n",
    "    if r >= 9.0: return \"Awesome\"\n",
    "    if r >= 8.0: return \"Great\"\n",
    "    if r >= 7.0: return \"Good\"\n",
    "    if r >= 6.0: return \"Regular\"\n",
    "    if r >= 5.0: return \"Bad\"\n",
    "    return \"Garbage\"\n",
    "\n",
    "categories = [\"Awesome\",\"Great\",\"Good\",\"Regular\",\"Bad\",\"Garbage\",\"NoData\"]\n",
    "colors = {\n",
    "    \"Awesome\": \"#006400\",\n",
    "    \"Great\":   \"#2E8B57\",\n",
    "    \"Good\":    \"#9ACD32\",\n",
    "    \"Regular\": \"#FFDA6B\",\n",
    "    \"Bad\":     \"#FF6B6B\",\n",
    "    \"Garbage\": \"#6B1B1B\",\n",
    "    \"NoData\":  \"#EEEEEE\"\n",
    "}\n",
    "\n",
    "cat_grid = pivot.applymap(rating_category)\n",
    "cat_grid.head()\n"
   ]
  },
  {
   "cell_type": "code",
   "execution_count": 11,
   "id": "99ac45b8-74b6-4752-9164-5154963abe98",
   "metadata": {},
   "outputs": [
    {
     "data": {
      "image/png": "[encoded data removed]",
      "text/plain": [
       "<Figure size 1280x990 with 1 Axes>"
      ]
     },
     "metadata": {},
     "output_type": "display_data"
    }
   ],
   "source": [
    "fig, ax = plt.subplots(figsize=(1.6 * max(4, pivot.shape[1]), 0.9 * max(6, pivot.shape[0])))\n",
    "\n",
    "for i, epi in enumerate(cat_grid.index):\n",
    "    for j, seas in enumerate(cat_grid.columns):\n",
    "        cat = cat_grid.loc[epi, seas]\n",
    "        face = colors.get(cat, \"#FFFFFF\")\n",
    "        ax.add_patch(plt.Rectangle((j, i), 1, 1, facecolor=face, edgecolor='white'))\n",
    "        val = pivot.loc[epi, seas]\n",
    "        if not pd.isna(val):\n",
    "            ax.text(j + 0.5, i + 0.5, f\"{val:.1f}\", ha='center', va='center', fontsize=10)\n",
    "\n",
    "ax.set_xticks(np.arange(len(pivot.columns)) + 0.5)\n",
    "ax.set_xticklabels(pivot.columns, rotation=0, fontsize=12)\n",
    "ax.set_yticks(np.arange(len(pivot.index)) + 0.5)\n",
    "ax.set_yticklabels(pivot.index, rotation=0, fontsize=12)\n",
    "ax.set_xlabel(\"Season\")\n",
    "ax.set_ylabel(\"Episode\")\n",
    "ax.set_title(f\"{series_name} — Episode Ratings Heatmap\", fontsize=16)\n",
    "ax.invert_yaxis()\n",
    "ax.set_xlim(0, len(pivot.columns))\n",
    "ax.set_ylim(0, len(pivot.index))\n",
    "\n",
    "from matplotlib.patches import Patch\n",
    "legend_handles = [Patch(facecolor=colors[c], label=c) for c in [\"Awesome\",\"Great\",\"Good\",\"Regular\",\"Bad\",\"Garbage\",\"NoData\"]]\n",
    "ax.legend(handles=legend_handles, bbox_to_anchor=(1.02, 1), loc='upper left')\n",
    "\n",
    "plt.tight_layout()\n",
    "plt.show()\n"
   ]
  },
  {
   "cell_type": "code",
   "execution_count": 12,
   "id": "509a23f1-2313-48e3-a9cd-d9b0f55662c5",
   "metadata": {},
   "outputs": [
    {
     "name": "stdout",
     "output_type": "stream",
     "text": [
      "Saved: Game_of_Thrones_episodes_pivot.csv Game_of_Thrones_episode_heatmap.png\n"
     ]
    }
   ],
   "source": [
    "safe = series_name.replace(\" \", \"_\")\n",
    "pivot.to_csv(f\"{safe}_episodes_pivot.csv\")\n",
    "fig.savefig(f\"{safe}_episode_heatmap.png\", dpi=200, bbox_inches='tight')\n",
    "print(\"Saved:\", f\"{safe}_episodes_pivot.csv\", f\"{safe}_episode_heatmap.png\")\n"
   ]
  },
  {
   "cell_type": "code",
   "execution_count": 13,
   "id": "b3ee16ed-df84-439b-83f7-e4b3e94be3ca",
   "metadata": {},
   "outputs": [
    {
     "data": {
      "application/vnd.plotly.v1+json": {
       "config": {
        "plotlyServerURL": "https://plot.ly"
       },
       "data": [
        {
         "coloraxis": "coloraxis",
         "histfunc": "sum",
         "hovertemplate": "season=%{x}<br>episode=%{y}<br>sum of imdbRating=%{z}<extra></extra>",
         "name": "",
         "nbinsx": 8,
         "type": "histogram2d",
         "x": {
          "bdata": "AQEBAQEBAQEBAQECAgICAgICAgICAwMDAwMDAwMDAwQEBAQEBAQEBAQFBQUFBQUFBQUFBgYGBgYGBgYGBgcHBwcHBwcICAgICAg=",
          "dtype": "i1"
         },
         "xaxis": "x",
         "xbingroup": "x",
         "y": {
          "bdata": "AAECAwQFBgcICQoBAgMEBQYHCAkKAQIDBAUGBwgJCgECAwQFBgcICQoBAgMEBQYHCAkKAQIDBAUGBwgJCgECAwQFBgcBAgMEBQY=",
          "dtype": "i1"
         },
         "yaxis": "y",
         "ybingroup": "y",
         "z": {
          "bdata": "AAAAAAAA+H/NzMzMzMwhQDMzMzMzMyFAAAAAAAAAIUAzMzMzMzMhQAAAAAAAACJAMzMzMzMzIkAzMzMzMzMiQM3MzMzMzCFAMzMzMzMzI0DNzMzMzMwiQDMzMzMzMyFAmpmZmZmZIEAAAAAAAAD4fwAAAAAAAPh/MzMzMzMzIUDNzMzMzMwhQJqZmZmZmSFAMzMzMzMzIUBmZmZmZmYjQJqZmZmZmSJAMzMzMzMzIUDNzMzMzMwgQGZmZmZmZiFAAAAAAAAAI0DNzMzMzMwhQGZmZmZmZiFAMzMzMzMzIUDNzMzMzMwhQM3MzMzMzCNAMzMzMzMzIkAAAAAAAAAiQGZmZmZmZiNAZmZmZmZmIUBmZmZmZmYhQDMzMzMzMyFAZmZmZmZmI0AAAAAAAAAiQGZmZmZmZiNAMzMzMzMzI0AzMzMzMzMjQJqZmZmZmSBAmpmZmZmZIEAAAAAAAAD4fwAAAAAAACFAAAAAAAAAIUCamZmZmZkfQJqZmZmZmSFAmpmZmZmZI0DNzMzMzMwiQDMzMzMzMyJAzczMzMzMIEBmZmZmZmYiQDMzMzMzMyFAAAAAAAAAIkBmZmZmZmYjQJqZmZmZmSBAAAAAAAAAIUCamZmZmZkgQM3MzMzMzCNAzczMzMzMI0AAAAAAAAAhQJqZmZmZmSFAMzMzMzMzIkBmZmZmZmYjQGZmZmZmZiFAAAAAAAAAIkDNzMzMzMwiQGZmZmZmZh5AmpmZmZmZH0AAAAAAAAAeQAAAAAAAABZAmpmZmZmZF0AAAAAAAAAQQA==",
          "dtype": "f8"
         }
        }
       ],
       "layout": {
        "coloraxis": {
         "colorbar": {
          "title": {
           "text": "sum of imdbRating"
          }
         },
         "colorscale": [
          [
           0,
           "rgb(165,0,38)"
          ],
          [
           0.1,
           "rgb(215,48,39)"
          ],
          [
           0.2,
           "rgb(244,109,67)"
          ],
          [
           0.3,
           "rgb(253,174,97)"
          ],
          [
           0.4,
           "rgb(254,224,139)"
          ],
          [
           0.5,
           "rgb(255,255,191)"
          ],
          [
           0.6,
           "rgb(217,239,139)"
          ],
          [
           0.7,
           "rgb(166,217,106)"
          ],
          [
           0.8,
           "rgb(102,189,99)"
          ],
          [
           0.9,
           "rgb(26,152,80)"
          ],
          [
           1,
           "rgb(0,104,55)"
          ]
         ]
        },
        "legend": {
         "tracegroupgap": 0
        },
        "template": {
         "data": {
          "bar": [
           {
            "error_x": {
             "color": "#2a3f5f"
            },
            "error_y": {
             "color": "#2a3f5f"
            },
            "marker": {
             "line": {
              "color": "#E5ECF6",
              "width": 0.5
             },
             "pattern": {
              "fillmode": "overlay",
              "size": 10,
              "solidity": 0.2
             }
            },
            "type": "bar"
           }
          ],
          "barpolar": [
           {
            "marker": {
             "line": {
              "color": "#E5ECF6",
              "width": 0.5
             },
             "pattern": {
              "fillmode": "overlay",
              "size": 10,
              "solidity": 0.2
             }
            },
            "type": "barpolar"
           }
          ],
          "carpet": [
           {
            "aaxis": {
             "endlinecolor": "#2a3f5f",
             "gridcolor": "white",
             "linecolor": "white",
             "minorgridcolor": "white",
             "startlinecolor": "#2a3f5f"
            },
            "baxis": {
             "endlinecolor": "#2a3f5f",
             "gridcolor": "white",
             "linecolor": "white",
             "minorgridcolor": "white",
             "startlinecolor": "#2a3f5f"
            },
            "type": "carpet"
           }
          ],
          "choropleth": [
           {
            "colorbar": {
             "outlinewidth": 0,
             "ticks": ""
            },
            "type": "choropleth"
           }
          ],
          "contour": [
           {
            "colorbar": {
             "outlinewidth": 0,
             "ticks": ""
            },
            "colorscale": [
             [
              0,
              "#0d0887"
             ],
             [
              0.1111111111111111,
              "#46039f"
             ],
             [
              0.2222222222222222,
              "#7201a8"
             ],
             [
              0.3333333333333333,
              "#9c179e"
             ],
             [
              0.4444444444444444,
              "#bd3786"
             ],
             [
              0.5555555555555556,
              "#d8576b"
             ],
             [
              0.6666666666666666,
              "#ed7953"
             ],
             [
              0.7777777777777778,
              "#fb9f3a"
             ],
             [
              0.8888888888888888,
              "#fdca26"
             ],
             [
              1,
              "#f0f921"
             ]
            ],
            "type": "contour"
           }
          ],
          "contourcarpet": [
           {
            "colorbar": {
             "outlinewidth": 0,
             "ticks": ""
            },
            "type": "contourcarpet"
           }
          ],
          "heatmap": [
           {
            "colorbar": {
             "outlinewidth": 0,
             "ticks": ""
            },
            "colorscale": [
             [
              0,
              "#0d0887"
             ],
             [
              0.1111111111111111,
              "#46039f"
             ],
             [
              0.2222222222222222,
              "#7201a8"
             ],
             [
              0.3333333333333333,
              "#9c179e"
             ],
             [
              0.4444444444444444,
              "#bd3786"
             ],
             [
              0.5555555555555556,
              "#d8576b"
             ],
             [
              0.6666666666666666,
              "#ed7953"
             ],
             [
              0.7777777777777778,
              "#fb9f3a"
             ],
             [
              0.8888888888888888,
              "#fdca26"
             ],
             [
              1,
              "#f0f921"
             ]
            ],
            "type": "heatmap"
           }
          ],
          "histogram": [
           {
            "marker": {
             "pattern": {
              "fillmode": "overlay",
              "size": 10,
              "solidity": 0.2
             }
            },
            "type": "histogram"
           }
          ],
          "histogram2d": [
           {
            "colorbar": {
             "outlinewidth": 0,
             "ticks": ""
            },
            "colorscale": [
             [
              0,
              "#0d0887"
             ],
             [
              0.1111111111111111,
              "#46039f"
             ],
             [
              0.2222222222222222,
              "#7201a8"
             ],
             [
              0.3333333333333333,
              "#9c179e"
             ],
             [
              0.4444444444444444,
              "#bd3786"
             ],
             [
              0.5555555555555556,
              "#d8576b"
             ],
             [
              0.6666666666666666,
              "#ed7953"
             ],
             [
              0.7777777777777778,
              "#fb9f3a"
             ],
             [
              0.8888888888888888,
              "#fdca26"
             ],
             [
              1,
              "#f0f921"
             ]
            ],
            "type": "histogram2d"
           }
          ],
          "histogram2dcontour": [
           {
            "colorbar": {
             "outlinewidth": 0,
             "ticks": ""
            },
            "colorscale": [
             [
              0,
              "#0d0887"
             ],
             [
              0.1111111111111111,
              "#46039f"
             ],
             [
              0.2222222222222222,
              "#7201a8"
             ],
             [
              0.3333333333333333,
              "#9c179e"
             ],
             [
              0.4444444444444444,
              "#bd3786"
             ],
             [
              0.5555555555555556,
              "#d8576b"
             ],
             [
              0.6666666666666666,
              "#ed7953"
             ],
             [
              0.7777777777777778,
              "#fb9f3a"
             ],
             [
              0.8888888888888888,
              "#fdca26"
             ],
             [
              1,
              "#f0f921"
             ]
            ],
            "type": "histogram2dcontour"
           }
          ],
          "mesh3d": [
           {
            "colorbar": {
             "outlinewidth": 0,
             "ticks": ""
            },
            "type": "mesh3d"
           }
          ],
          "parcoords": [
           {
            "line": {
             "colorbar": {
              "outlinewidth": 0,
              "ticks": ""
             }
            },
            "type": "parcoords"
           }
          ],
          "pie": [
           {
            "automargin": true,
            "type": "pie"
           }
          ],
          "scatter": [
           {
            "fillpattern": {
             "fillmode": "overlay",
             "size": 10,
             "solidity": 0.2
            },
            "type": "scatter"
           }
          ],
          "scatter3d": [
           {
            "line": {
             "colorbar": {
              "outlinewidth": 0,
              "ticks": ""
             }
            },
            "marker": {
             "colorbar": {
              "outlinewidth": 0,
              "ticks": ""
             }
            },
            "type": "scatter3d"
           }
          ],
          "scattercarpet": [
           {
            "marker": {
             "colorbar": {
              "outlinewidth": 0,
              "ticks": ""
             }
            },
            "type": "scattercarpet"
           }
          ],
          "scattergeo": [
           {
            "marker": {
             "colorbar": {
              "outlinewidth": 0,
              "ticks": ""
             }
            },
            "type": "scattergeo"
           }
          ],
          "scattergl": [
           {
            "marker": {
             "colorbar": {
              "outlinewidth": 0,
              "ticks": ""
             }
            },
            "type": "scattergl"
           }
          ],
          "scattermap": [
           {
            "marker": {
             "colorbar": {
              "outlinewidth": 0,
              "ticks": ""
             }
            },
            "type": "scattermap"
           }
          ],
          "scattermapbox": [
           {
            "marker": {
             "colorbar": {
              "outlinewidth": 0,
              "ticks": ""
             }
            },
            "type": "scattermapbox"
           }
          ],
          "scatterpolar": [
           {
            "marker": {
             "colorbar": {
              "outlinewidth": 0,
              "ticks": ""
             }
            },
            "type": "scatterpolar"
           }
          ],
          "scatterpolargl": [
           {
            "marker": {
             "colorbar": {
              "outlinewidth": 0,
              "ticks": ""
             }
            },
            "type": "scatterpolargl"
           }
          ],
          "scatterternary": [
           {
            "marker": {
             "colorbar": {
              "outlinewidth": 0,
              "ticks": ""
             }
            },
            "type": "scatterternary"
           }
          ],
          "surface": [
           {
            "colorbar": {
             "outlinewidth": 0,
             "ticks": ""
            },
            "colorscale": [
             [
              0,
              "#0d0887"
             ],
             [
              0.1111111111111111,
              "#46039f"
             ],
             [
              0.2222222222222222,
              "#7201a8"
             ],
             [
              0.3333333333333333,
              "#9c179e"
             ],
             [
              0.4444444444444444,
              "#bd3786"
             ],
             [
              0.5555555555555556,
              "#d8576b"
             ],
             [
              0.6666666666666666,
              "#ed7953"
             ],
             [
              0.7777777777777778,
              "#fb9f3a"
             ],
             [
              0.8888888888888888,
              "#fdca26"
             ],
             [
              1,
              "#f0f921"
             ]
            ],
            "type": "surface"
           }
          ],
          "table": [
           {
            "cells": {
             "fill": {
              "color": "#EBF0F8"
             },
             "line": {
              "color": "white"
             }
            },
            "header": {
             "fill": {
              "color": "#C8D4E3"
             },
             "line": {
              "color": "white"
             }
            },
            "type": "table"
           }
          ]
         },
         "layout": {
          "annotationdefaults": {
           "arrowcolor": "#2a3f5f",
           "arrowhead": 0,
           "arrowwidth": 1
          },
          "autotypenumbers": "strict",
          "coloraxis": {
           "colorbar": {
            "outlinewidth": 0,
            "ticks": ""
           }
          },
          "colorscale": {
           "diverging": [
            [
             0,
             "#8e0152"
            ],
            [
             0.1,
             "#c51b7d"
            ],
            [
             0.2,
             "#de77ae"
            ],
            [
             0.3,
             "#f1b6da"
            ],
            [
             0.4,
             "#fde0ef"
            ],
            [
             0.5,
             "#f7f7f7"
            ],
            [
             0.6,
             "#e6f5d0"
            ],
            [
             0.7,
             "#b8e186"
            ],
            [
             0.8,
             "#7fbc41"
            ],
            [
             0.9,
             "#4d9221"
            ],
            [
             1,
             "#276419"
            ]
           ],
           "sequential": [
            [
             0,
             "#0d0887"
            ],
            [
             0.1111111111111111,
             "#46039f"
            ],
            [
             0.2222222222222222,
             "#7201a8"
            ],
            [
             0.3333333333333333,
             "#9c179e"
            ],
            [
             0.4444444444444444,
             "#bd3786"
            ],
            [
             0.5555555555555556,
             "#d8576b"
            ],
            [
             0.6666666666666666,
             "#ed7953"
            ],
            [
             0.7777777777777778,
             "#fb9f3a"
            ],
            [
             0.8888888888888888,
             "#fdca26"
            ],
            [
             1,
             "#f0f921"
            ]
           ],
           "sequentialminus": [
            [
             0,
             "#0d0887"
            ],
            [
             0.1111111111111111,
             "#46039f"
            ],
            [
             0.2222222222222222,
             "#7201a8"
            ],
            [
             0.3333333333333333,
             "#9c179e"
            ],
            [
             0.4444444444444444,
             "#bd3786"
            ],
            [
             0.5555555555555556,
             "#d8576b"
            ],
            [
             0.6666666666666666,
             "#ed7953"
            ],
            [
             0.7777777777777778,
             "#fb9f3a"
            ],
            [
             0.8888888888888888,
             "#fdca26"
            ],
            [
             1,
             "#f0f921"
            ]
           ]
          },
          "colorway": [
           "#636efa",
           "#EF553B",
           "#00cc96",
           "#ab63fa",
           "#FFA15A",
           "#19d3f3",
           "#FF6692",
           "#B6E880",
           "#FF97FF",
           "#FECB52"
          ],
          "font": {
           "color": "#2a3f5f"
          },
          "geo": {
           "bgcolor": "white",
           "lakecolor": "white",
           "landcolor": "#E5ECF6",
           "showlakes": true,
           "showland": true,
           "subunitcolor": "white"
          },
          "hoverlabel": {
           "align": "left"
          },
          "hovermode": "closest",
          "mapbox": {
           "style": "light"
          },
          "paper_bgcolor": "white",
          "plot_bgcolor": "#E5ECF6",
          "polar": {
           "angularaxis": {
            "gridcolor": "white",
            "linecolor": "white",
            "ticks": ""
           },
           "bgcolor": "#E5ECF6",
           "radialaxis": {
            "gridcolor": "white",
            "linecolor": "white",
            "ticks": ""
           }
          },
          "scene": {
           "xaxis": {
            "backgroundcolor": "#E5ECF6",
            "gridcolor": "white",
            "gridwidth": 2,
            "linecolor": "white",
            "showbackground": true,
            "ticks": "",
            "zerolinecolor": "white"
           },
           "yaxis": {
            "backgroundcolor": "#E5ECF6",
            "gridcolor": "white",
            "gridwidth": 2,
            "linecolor": "white",
            "showbackground": true,
            "ticks": "",
            "zerolinecolor": "white"
           },
           "zaxis": {
            "backgroundcolor": "#E5ECF6",
            "gridcolor": "white",
            "gridwidth": 2,
            "linecolor": "white",
            "showbackground": true,
            "ticks": "",
            "zerolinecolor": "white"
           }
          },
          "shapedefaults": {
           "line": {
            "color": "#2a3f5f"
           }
          },
          "ternary": {
           "aaxis": {
            "gridcolor": "white",
            "linecolor": "white",
            "ticks": ""
           },
           "baxis": {
            "gridcolor": "white",
            "linecolor": "white",
            "ticks": ""
           },
           "bgcolor": "#E5ECF6",
           "caxis": {
            "gridcolor": "white",
            "linecolor": "white",
            "ticks": ""
           }
          },
          "title": {
           "x": 0.05
          },
          "xaxis": {
           "automargin": true,
           "gridcolor": "white",
           "linecolor": "white",
           "ticks": "",
           "title": {
            "standoff": 15
           },
           "zerolinecolor": "white",
           "zerolinewidth": 2
          },
          "yaxis": {
           "automargin": true,
           "gridcolor": "white",
           "linecolor": "white",
           "ticks": "",
           "title": {
            "standoff": 15
           },
           "zerolinecolor": "white",
           "zerolinewidth": 2
          }
         }
        },
        "title": {
         "text": "Game of Thrones Episode Ratings (Interactive)"
        },
        "xaxis": {
         "anchor": "y",
         "domain": [
          0,
          1
         ],
         "title": {
          "text": "season"
         }
        },
        "yaxis": {
         "anchor": "x",
         "autorange": "reversed",
         "domain": [
          0,
          1
         ],
         "title": {
          "text": "episode"
         }
        }
       }
      },
      "image/png": "[encoded data removed]"
     },
     "metadata": {},
     "output_type": "display_data"
    },
    {
     "name": "stdout",
     "output_type": "stream",
     "text": [
      "Interactive HTML saved.\n"
     ]
    }
   ],
   "source": [
    "import plotly.express as px\n",
    "\n",
    "# build a DataFrame suitable for plotly (season, episode, rating, title)\n",
    "df_plotly = df_eps.copy()\n",
    "df_plotly['rating_text'] = df_plotly['imdbRating'].apply(lambda x: f\"{x:.1f}\" if not pd.isna(x) else \"N/A\")\n",
    "\n",
    "fig_p = px.density_heatmap(df_plotly, x='season', y='episode', z='imdbRating',\n",
    "                           hover_data=['title','imdbRating'],\n",
    "                           color_continuous_scale='RdYlGn',\n",
    "                           nbinsx=len(df_plotly['season'].unique()),\n",
    "                           title=f\"{series_name} Episode Ratings (Interactive)\")\n",
    "fig_p.update_yaxes(autorange='reversed')\n",
    "fig_p.show()\n",
    "\n",
    "# Save interactive HTML\n",
    "fig_p.write_html(f\"{safe}_interactive_heatmap.html\")\n",
    "print(\"Interactive HTML saved.\")\n"
   ]
  },
  {
   "cell_type": "code",
   "execution_count": null,
   "id": "5d5253a7-8a81-4286-a4ff-f6f1e1058767",
   "metadata": {},
   "outputs": [],
   "source": []
  }
 ],
 "metadata": {
  "kernelspec": {
   "display_name": "Python [conda env:base] *",
   "language": "python",
   "name": "conda-base-py"
  },
  "language_info": {
   "codemirror_mode": {
    "name": "ipython",
    "version": 3
   },
   "file_extension": ".py",
   "mimetype": "text/x-python",
   "name": "python",
   "nbconvert_exporter": "python",
   "pygments_lexer": "ipython3",
   "version": "3.13.5"
  }
 },
 "nbformat": 4,
 "nbformat_minor": 5
}
